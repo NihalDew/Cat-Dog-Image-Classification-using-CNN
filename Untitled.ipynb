{
 "cells": [
  {
   "cell_type": "code",
   "execution_count": 2,
   "metadata": {},
   "outputs": [
    {
     "name": "stderr",
     "output_type": "stream",
     "text": [
      "Using TensorFlow backend.\n"
     ]
    }
   ],
   "source": [
    "import tensorflow as tf\n",
    "from keras.models import Sequential\n",
    "from keras.layers import *\n",
    "import numpy as np\n",
    "import matplotlib.pyplot as plt\n",
    "%matplotlib inline\n",
    "from keras.models import model_from_json\n",
    "import os\n",
    "from keras.preprocessing.image import ImageDataGenerator,NumpyArrayIterator\n",
    "from keras.callbacks import ModelCheckpoint"
   ]
  },
  {
   "cell_type": "code",
   "execution_count": 3,
   "metadata": {},
   "outputs": [],
   "source": [
    "classifier = Sequential()"
   ]
  },
  {
   "cell_type": "code",
   "execution_count": 4,
   "metadata": {},
   "outputs": [],
   "source": [
    " classifier.add(Convolution2D(32,(3,3),activation='relu',padding='same',input_shape=(224,224,3)))"
   ]
  },
  {
   "cell_type": "code",
   "execution_count": 5,
   "metadata": {},
   "outputs": [],
   "source": [
    "classifier.add(BatchNormalization())"
   ]
  },
  {
   "cell_type": "code",
   "execution_count": 6,
   "metadata": {},
   "outputs": [],
   "source": [
    "classifier.add(MaxPool2D())"
   ]
  },
  {
   "cell_type": "code",
   "execution_count": 7,
   "metadata": {},
   "outputs": [],
   "source": [
    "classifier.add(Convolution2D(32,(3,3),activation='relu'))"
   ]
  },
  {
   "cell_type": "code",
   "execution_count": 8,
   "metadata": {},
   "outputs": [],
   "source": [
    "classifier.add(BatchNormalization())"
   ]
  },
  {
   "cell_type": "code",
   "execution_count": 9,
   "metadata": {},
   "outputs": [],
   "source": [
    "classifier.add(MaxPool2D())"
   ]
  },
  {
   "cell_type": "code",
   "execution_count": 10,
   "metadata": {},
   "outputs": [],
   "source": [
    "#classifier.add(Convolution2D(32,(3,3),padding='same',\n",
    "                #activation='relu'))"
   ]
  },
  {
   "cell_type": "code",
   "execution_count": 11,
   "metadata": {},
   "outputs": [],
   "source": [
    "#classifier.add(MaxPool2D())"
   ]
  },
  {
   "cell_type": "code",
   "execution_count": 12,
   "metadata": {},
   "outputs": [],
   "source": [
    "#classifier.add(BatchNormalization())"
   ]
  },
  {
   "cell_type": "code",
   "execution_count": 13,
   "metadata": {},
   "outputs": [],
   "source": [
    "classifier.add(Convolution2D(64,(3,3),activation='relu'))"
   ]
  },
  {
   "cell_type": "code",
   "execution_count": 14,
   "metadata": {},
   "outputs": [],
   "source": [
    "classifier.add(BatchNormalization())"
   ]
  },
  {
   "cell_type": "code",
   "execution_count": 15,
   "metadata": {},
   "outputs": [],
   "source": [
    "classifier.add(MaxPool2D())"
   ]
  },
  {
   "cell_type": "code",
   "execution_count": 16,
   "metadata": {},
   "outputs": [],
   "source": [
    "classifier.add(Convolution2D(64,(3,3),activation='relu'))"
   ]
  },
  {
   "cell_type": "code",
   "execution_count": 17,
   "metadata": {},
   "outputs": [],
   "source": [
    "classifier.add(BatchNormalization())"
   ]
  },
  {
   "cell_type": "code",
   "execution_count": 18,
   "metadata": {},
   "outputs": [],
   "source": [
    "classifier.add(MaxPool2D())"
   ]
  },
  {
   "cell_type": "code",
   "execution_count": 19,
   "metadata": {},
   "outputs": [],
   "source": [
    "#classifier.add(Convolution2D(64,(3,3),activation='relu',padding='same'))"
   ]
  },
  {
   "cell_type": "code",
   "execution_count": 20,
   "metadata": {},
   "outputs": [],
   "source": [
    "#classifier.add(MaxPool2D())"
   ]
  },
  {
   "cell_type": "code",
   "execution_count": 21,
   "metadata": {},
   "outputs": [],
   "source": [
    "classifier.add(Convolution2D(128,(3,3),activation='relu'))"
   ]
  },
  {
   "cell_type": "code",
   "execution_count": 22,
   "metadata": {},
   "outputs": [],
   "source": [
    "classifier.add(BatchNormalization())"
   ]
  },
  {
   "cell_type": "code",
   "execution_count": 23,
   "metadata": {},
   "outputs": [],
   "source": [
    "classifier.add(MaxPool2D())"
   ]
  },
  {
   "cell_type": "code",
   "execution_count": 24,
   "metadata": {},
   "outputs": [],
   "source": [
    "classifier.add(Convolution2D(256,(3,3),activation='relu'))"
   ]
  },
  {
   "cell_type": "code",
   "execution_count": 25,
   "metadata": {},
   "outputs": [],
   "source": [
    "classifier.add(BatchNormalization())"
   ]
  },
  {
   "cell_type": "code",
   "execution_count": 26,
   "metadata": {},
   "outputs": [],
   "source": [
    "classifier.add(MaxPool2D())"
   ]
  },
  {
   "cell_type": "code",
   "execution_count": 27,
   "metadata": {},
   "outputs": [],
   "source": [
    "#classifier.add(Convolution2D(128,(3,3),activation='relu',padding='same'))"
   ]
  },
  {
   "cell_type": "code",
   "execution_count": 28,
   "metadata": {},
   "outputs": [],
   "source": [
    "#classifier.add(MaxPool2D())"
   ]
  },
  {
   "cell_type": "markdown",
   "metadata": {},
   "source": [
    "classifier.add(Convolution2D(128,(3,3),activation='relu',padding='same'))\n",
    "classifier.add(Convolution2D(128,(3,3),activation='relu',padding='same'))\n",
    "classifier.add(Convolution2D(128,(3,3),activation='relu',padding='same'))"
   ]
  },
  {
   "cell_type": "code",
   "execution_count": 29,
   "metadata": {},
   "outputs": [],
   "source": [
    "#classifier.add(MaxPool2D())"
   ]
  },
  {
   "cell_type": "code",
   "execution_count": 30,
   "metadata": {},
   "outputs": [],
   "source": [
    "#classifier.add(BatchNormalization())"
   ]
  },
  {
   "cell_type": "code",
   "execution_count": 31,
   "metadata": {},
   "outputs": [],
   "source": [
    "classifier.add(Flatten())"
   ]
  },
  {
   "cell_type": "code",
   "execution_count": 32,
   "metadata": {},
   "outputs": [],
   "source": [
    "from keras import regularizers"
   ]
  },
  {
   "cell_type": "code",
   "execution_count": 33,
   "metadata": {},
   "outputs": [],
   "source": [
    "classifier.add(Dense(units=128,activation='relu',activity_regularizer=regularizers.l2(1e-4)))"
   ]
  },
  {
   "cell_type": "code",
   "execution_count": 34,
   "metadata": {},
   "outputs": [],
   "source": [
    "classifier.add(Dropout(0.3))"
   ]
  },
  {
   "cell_type": "code",
   "execution_count": 35,
   "metadata": {},
   "outputs": [],
   "source": [
    "classifier.add(Dense(units=64,activation='relu',activity_regularizer=regularizers.l2(1e-4)))"
   ]
  },
  {
   "cell_type": "code",
   "execution_count": 36,
   "metadata": {},
   "outputs": [],
   "source": [
    "classifier.add(Dropout(0.2))"
   ]
  },
  {
   "cell_type": "code",
   "execution_count": null,
   "metadata": {},
   "outputs": [],
   "source": []
  },
  {
   "cell_type": "code",
   "execution_count": null,
   "metadata": {},
   "outputs": [],
   "source": []
  },
  {
   "cell_type": "code",
   "execution_count": 37,
   "metadata": {},
   "outputs": [],
   "source": [
    "classifier.add(Dense(units=1,activation='sigmoid'))"
   ]
  },
  {
   "cell_type": "code",
   "execution_count": 38,
   "metadata": {},
   "outputs": [],
   "source": [
    "classifier.compile(optimizer='adam',loss='binary_crossentropy',metrics=['accuracy'])"
   ]
  },
  {
   "cell_type": "code",
   "execution_count": 39,
   "metadata": {},
   "outputs": [
    {
     "name": "stdout",
     "output_type": "stream",
     "text": [
      "Model: \"sequential_1\"\n",
      "_________________________________________________________________\n",
      "Layer (type)                 Output Shape              Param #   \n",
      "=================================================================\n",
      "conv2d_1 (Conv2D)            (None, 224, 224, 32)      896       \n",
      "_________________________________________________________________\n",
      "batch_normalization_1 (Batch (None, 224, 224, 32)      128       \n",
      "_________________________________________________________________\n",
      "max_pooling2d_1 (MaxPooling2 (None, 112, 112, 32)      0         \n",
      "_________________________________________________________________\n",
      "conv2d_2 (Conv2D)            (None, 110, 110, 32)      9248      \n",
      "_________________________________________________________________\n",
      "batch_normalization_2 (Batch (None, 110, 110, 32)      128       \n",
      "_________________________________________________________________\n",
      "max_pooling2d_2 (MaxPooling2 (None, 55, 55, 32)        0         \n",
      "_________________________________________________________________\n",
      "conv2d_3 (Conv2D)            (None, 53, 53, 64)        18496     \n",
      "_________________________________________________________________\n",
      "batch_normalization_3 (Batch (None, 53, 53, 64)        256       \n",
      "_________________________________________________________________\n",
      "max_pooling2d_3 (MaxPooling2 (None, 26, 26, 64)        0         \n",
      "_________________________________________________________________\n",
      "conv2d_4 (Conv2D)            (None, 24, 24, 64)        36928     \n",
      "_________________________________________________________________\n",
      "batch_normalization_4 (Batch (None, 24, 24, 64)        256       \n",
      "_________________________________________________________________\n",
      "max_pooling2d_4 (MaxPooling2 (None, 12, 12, 64)        0         \n",
      "_________________________________________________________________\n",
      "conv2d_5 (Conv2D)            (None, 10, 10, 128)       73856     \n",
      "_________________________________________________________________\n",
      "batch_normalization_5 (Batch (None, 10, 10, 128)       512       \n",
      "_________________________________________________________________\n",
      "max_pooling2d_5 (MaxPooling2 (None, 5, 5, 128)         0         \n",
      "_________________________________________________________________\n",
      "conv2d_6 (Conv2D)            (None, 3, 3, 256)         295168    \n",
      "_________________________________________________________________\n",
      "batch_normalization_6 (Batch (None, 3, 3, 256)         1024      \n",
      "_________________________________________________________________\n",
      "max_pooling2d_6 (MaxPooling2 (None, 1, 1, 256)         0         \n",
      "_________________________________________________________________\n",
      "flatten_1 (Flatten)          (None, 256)               0         \n",
      "_________________________________________________________________\n",
      "dense_1 (Dense)              (None, 128)               32896     \n",
      "_________________________________________________________________\n",
      "dropout_1 (Dropout)          (None, 128)               0         \n",
      "_________________________________________________________________\n",
      "dense_2 (Dense)              (None, 64)                8256      \n",
      "_________________________________________________________________\n",
      "dropout_2 (Dropout)          (None, 64)                0         \n",
      "_________________________________________________________________\n",
      "dense_3 (Dense)              (None, 1)                 65        \n",
      "=================================================================\n",
      "Total params: 478,113\n",
      "Trainable params: 476,961\n",
      "Non-trainable params: 1,152\n",
      "_________________________________________________________________\n"
     ]
    }
   ],
   "source": [
    "classifier.summary()"
   ]
  },
  {
   "cell_type": "code",
   "execution_count": 40,
   "metadata": {},
   "outputs": [],
   "source": [
    "# X_train = np.load('train.npy')\n",
    "# Y_train = np.load('train_labels.npy')\n",
    "# X_test = np.load('test.npy')\n",
    "# Y_test = np.load('test_labels.npy')\n",
    "                "
   ]
  },
  {
   "cell_type": "code",
   "execution_count": 43,
   "metadata": {},
   "outputs": [
    {
     "name": "stdout",
     "output_type": "stream",
     "text": [
      "Found 8005 images belonging to 2 classes.\n",
      "Found 2023 images belonging to 2 classes.\n",
      "Epoch 1/46\n",
      "8000/8000 [==============================] - 835s 104ms/step - loss: 0.2089 - accuracy: 0.9218 - val_loss: 0.1863 - val_accuracy: 0.9213\n",
      "Epoch 2/46\n",
      "8000/8000 [==============================] - 832s 104ms/step - loss: 0.1699 - accuracy: 0.9378 - val_loss: 0.9041 - val_accuracy: 0.9270\n",
      "Epoch 3/46\n",
      "8000/8000 [==============================] - 839s 105ms/step - loss: 0.1424 - accuracy: 0.9505 - val_loss: 0.2419 - val_accuracy: 0.9240\n",
      "Epoch 4/46\n",
      "8000/8000 [==============================] - 837s 105ms/step - loss: 0.1201 - accuracy: 0.9595 - val_loss: 0.0304 - val_accuracy: 0.9308\n",
      "Epoch 5/46\n",
      "8000/8000 [==============================] - 834s 104ms/step - loss: 0.1029 - accuracy: 0.9663 - val_loss: 0.0177 - val_accuracy: 0.9190\n",
      "Epoch 6/46\n",
      "8000/8000 [==============================] - 833s 104ms/step - loss: 0.0929 - accuracy: 0.9699 - val_loss: 0.0262 - val_accuracy: 0.9258\n",
      "Epoch 7/46\n",
      "8000/8000 [==============================] - 827s 103ms/step - loss: 0.0827 - accuracy: 0.9741 - val_loss: 0.0628 - val_accuracy: 0.9227\n",
      "Epoch 8/46\n",
      "8000/8000 [==============================] - 851s 106ms/step - loss: 0.0767 - accuracy: 0.9756 - val_loss: 0.0214 - val_accuracy: 0.9293\n",
      "Epoch 9/46\n",
      "8000/8000 [==============================] - 835s 104ms/step - loss: 0.0702 - accuracy: 0.9782 - val_loss: 0.0257 - val_accuracy: 0.9361\n",
      "Epoch 10/46\n",
      "8000/8000 [==============================] - 826s 103ms/step - loss: 0.0696 - accuracy: 0.9786 - val_loss: 0.1393 - val_accuracy: 0.9388\n",
      "Epoch 11/46\n",
      "8000/8000 [==============================] - 826s 103ms/step - loss: 0.0637 - accuracy: 0.9806 - val_loss: 0.0117 - val_accuracy: 0.9322\n",
      "Epoch 12/46\n",
      "8000/8000 [==============================] - 826s 103ms/step - loss: 0.0621 - accuracy: 0.9817 - val_loss: 0.0092 - val_accuracy: 0.9244\n",
      "Epoch 13/46\n",
      "8000/8000 [==============================] - 825s 103ms/step - loss: 0.0613 - accuracy: 0.9809 - val_loss: 0.0174 - val_accuracy: 0.9324\n",
      "Epoch 14/46\n",
      "8000/8000 [==============================] - 826s 103ms/step - loss: 0.0542 - accuracy: 0.9843 - val_loss: 0.6068 - val_accuracy: 0.9213\n",
      "Epoch 15/46\n",
      "8000/8000 [==============================] - 825s 103ms/step - loss: 0.0551 - accuracy: 0.9833 - val_loss: 0.0149 - val_accuracy: 0.9353\n",
      "Epoch 16/46\n",
      "8000/8000 [==============================] - 826s 103ms/step - loss: 0.0525 - accuracy: 0.9850 - val_loss: 0.1718 - val_accuracy: 0.9343\n",
      "Epoch 17/46\n",
      "8000/8000 [==============================] - 826s 103ms/step - loss: 0.0516 - accuracy: 0.9855 - val_loss: 0.0189 - val_accuracy: 0.9241\n",
      "Epoch 18/46\n",
      "8000/8000 [==============================] - 826s 103ms/step - loss: 0.0511 - accuracy: 0.9854 - val_loss: 0.5805 - val_accuracy: 0.9141\n",
      "Epoch 19/46\n",
      "8000/8000 [==============================] - 825s 103ms/step - loss: 0.0498 - accuracy: 0.9861 - val_loss: 0.0301 - val_accuracy: 0.9240\n",
      "Epoch 20/46\n",
      "8000/8000 [==============================] - 825s 103ms/step - loss: 0.0502 - accuracy: 0.9855 - val_loss: 0.0915 - val_accuracy: 0.9300\n",
      "Epoch 21/46\n",
      "8000/8000 [==============================] - 826s 103ms/step - loss: 0.0475 - accuracy: 0.9874 - val_loss: 0.0367 - val_accuracy: 0.9248\n",
      "Epoch 22/46\n",
      "8000/8000 [==============================] - 826s 103ms/step - loss: 0.0472 - accuracy: 0.9864 - val_loss: 0.0086 - val_accuracy: 0.9388\n",
      "Epoch 23/46\n",
      "8000/8000 [==============================] - 826s 103ms/step - loss: 0.0468 - accuracy: 0.9867 - val_loss: 0.1608 - val_accuracy: 0.9340\n",
      "Epoch 24/46\n",
      "8000/8000 [==============================] - 826s 103ms/step - loss: 0.0465 - accuracy: 0.9873 - val_loss: 1.3990 - val_accuracy: 0.9342\n",
      "Epoch 25/46\n",
      "8000/8000 [==============================] - 826s 103ms/step - loss: 0.0471 - accuracy: 0.9874 - val_loss: 0.0110 - val_accuracy: 0.9354\n",
      "Epoch 26/46\n",
      "8000/8000 [==============================] - 826s 103ms/step - loss: 0.0456 - accuracy: 0.9876 - val_loss: 1.0717 - val_accuracy: 0.9308\n",
      "Epoch 27/46\n",
      "8000/8000 [==============================] - 826s 103ms/step - loss: 0.0434 - accuracy: 0.9878 - val_loss: 0.0508 - val_accuracy: 0.9278\n",
      "Epoch 28/46\n",
      "8000/8000 [==============================] - 825s 103ms/step - loss: 0.0430 - accuracy: 0.9886 - val_loss: 0.0883 - val_accuracy: 0.9423\n",
      "Epoch 29/46\n",
      "8000/8000 [==============================] - 830s 104ms/step - loss: 0.0421 - accuracy: 0.9888 - val_loss: 0.0068 - val_accuracy: 0.9369\n",
      "Epoch 30/46\n",
      "8000/8000 [==============================] - 829s 104ms/step - loss: 0.0439 - accuracy: 0.9882 - val_loss: 0.0104 - val_accuracy: 0.9352\n",
      "Epoch 31/46\n",
      "8000/8000 [==============================] - 826s 103ms/step - loss: 0.0388 - accuracy: 0.9897 - val_loss: 1.4230 - val_accuracy: 0.9357\n",
      "Epoch 32/46\n",
      "8000/8000 [==============================] - 826s 103ms/step - loss: 0.0376 - accuracy: 0.9899 - val_loss: 0.0366 - val_accuracy: 0.9267\n",
      "Epoch 33/46\n",
      "8000/8000 [==============================] - 826s 103ms/step - loss: 0.0413 - accuracy: 0.9891 - val_loss: 0.6251 - val_accuracy: 0.9472\n",
      "Epoch 34/46\n",
      "8000/8000 [==============================] - 827s 103ms/step - loss: 0.0383 - accuracy: 0.9892 - val_loss: 0.0782 - val_accuracy: 0.9215\n",
      "Epoch 35/46\n",
      "8000/8000 [==============================] - 827s 103ms/step - loss: 0.0388 - accuracy: 0.9900 - val_loss: 0.0072 - val_accuracy: 0.9442\n",
      "Epoch 36/46\n",
      "8000/8000 [==============================] - 829s 104ms/step - loss: 0.0415 - accuracy: 0.9893 - val_loss: 0.0156 - val_accuracy: 0.9370\n",
      "Epoch 37/46\n",
      "8000/8000 [==============================] - 828s 104ms/step - loss: 0.0390 - accuracy: 0.9897 - val_loss: 0.5923 - val_accuracy: 0.9390\n",
      "Epoch 38/46\n",
      "8000/8000 [==============================] - 829s 104ms/step - loss: 0.0377 - accuracy: 0.9906 - val_loss: 0.0175 - val_accuracy: 0.9318\n",
      "Epoch 39/46\n",
      "8000/8000 [==============================] - 837s 105ms/step - loss: 0.0363 - accuracy: 0.9908 - val_loss: 0.7812 - val_accuracy: 0.9342\n",
      "Epoch 40/46\n",
      "8000/8000 [==============================] - 837s 105ms/step - loss: 0.0361 - accuracy: 0.9904 - val_loss: 0.0274 - val_accuracy: 0.9368\n",
      "Epoch 41/46\n",
      "8000/8000 [==============================] - 838s 105ms/step - loss: 0.0334 - accuracy: 0.9916 - val_loss: 0.0122 - val_accuracy: 0.9245\n",
      "Epoch 42/46\n",
      "8000/8000 [==============================] - 835s 104ms/step - loss: 0.0329 - accuracy: 0.9916 - val_loss: 0.5999 - val_accuracy: 0.9364\n",
      "Epoch 43/46\n",
      "8000/8000 [==============================] - 834s 104ms/step - loss: 0.0368 - accuracy: 0.9904 - val_loss: 0.0113 - val_accuracy: 0.9298\n",
      "Epoch 44/46\n",
      "8000/8000 [==============================] - 1037s 130ms/step - loss: 0.0347 - accuracy: 0.9911 - val_loss: 0.0733 - val_accuracy: 0.9327\n",
      "Epoch 45/46\n",
      "8000/8000 [==============================] - 1068s 134ms/step - loss: 0.0332 - accuracy: 0.9916 - val_loss: 0.0438 - val_accuracy: 0.9373\n",
      "Epoch 46/46\n",
      "8000/8000 [==============================] - 835s 104ms/step - loss: 0.0346 - accuracy: 0.9910 - val_loss: 0.0290 - val_accuracy: 0.9355\n",
      "Saved model to disk\n"
     ]
    }
   ],
   "source": [
    "train_datagen = ImageDataGenerator(\n",
    "        rescale=1./255,\n",
    "        shear_range=0.2,\n",
    "        zoom_range=0.2,\n",
    "        horizontal_flip=True)\n",
    "\n",
    "test_datagen = ImageDataGenerator(rescale=1./255)\n",
    "\n",
    "training_set = train_datagen.flow_from_directory(\n",
    "        'cat-and-dog/training_set/',\n",
    "        target_size=(224,224),\n",
    "        batch_size=8,\n",
    "        class_mode='binary')\n",
    "\n",
    "test_set = test_datagen.flow_from_directory(\n",
    "        'cat-and-dog/test_set/',\n",
    "        target_size=(224,224),\n",
    "        batch_size=8,\n",
    "        class_mode='binary')\n",
    "# training_set = NumpyArrayIterator(X_train,Y_train,train_datagen,batch_size=4,shuffle=True)\n",
    "\n",
    "# test_set = NumpyArrayIterator(X_test,Y_test,test_datagen,batch_size=4,shuffle=True)\n",
    "\n",
    "# tensorboard = TensorBoard(log_dir='logs/{}'.format(time()))\n",
    "\n",
    "# filepath = 'model5.h5'\n",
    "\n",
    "# checkpoint = ModelCheckpoint(filepath,monitor='val_acc',verbose=1,save_best_only=True,mode='max')\n",
    "\n",
    "classifier.fit_generator(\n",
    "        training_set,\n",
    "        steps_per_epoch=8000,\n",
    "        epochs=46,\n",
    "        validation_data=test_set,\n",
    "        validation_steps=2000,)\n",
    "\n",
    "model_json = classifier.to_json()\n",
    "with open(\"model5.json\", \"w\") as json_file:\n",
    "    json_file.write(model_json)\n",
    "# serialize weights to HDF5\n",
    "classifier.save_weights(\"model5.h5\")\n",
    "print(\"Saved model to disk\")"
   ]
  },
  {
   "cell_type": "code",
   "execution_count": 42,
   "metadata": {},
   "outputs": [],
   "source": [
    "classifier.evaluate_generator()"
   ]
  },
  {
   "cell_type": "code",
   "execution_count": null,
   "metadata": {},
   "outputs": [],
   "source": []
  }
 ],
 "metadata": {
  "kernelspec": {
   "display_name": "Python 3",
   "language": "python",
   "name": "python3"
  },
  "language_info": {
   "codemirror_mode": {
    "name": "ipython",
    "version": 3
   },
   "file_extension": ".py",
   "mimetype": "text/x-python",
   "name": "python",
   "nbconvert_exporter": "python",
   "pygments_lexer": "ipython3",
   "version": "3.7.6"
  }
 },
 "nbformat": 4,
 "nbformat_minor": 2
}
